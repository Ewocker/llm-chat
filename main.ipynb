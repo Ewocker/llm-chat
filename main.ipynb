{
 "cells": [
  {
   "cell_type": "markdown",
   "id": "fe12c203-e6a6-452c-a655-afb8a03a4ff5",
   "metadata": {},
   "source": [
    "# End of week 1 exercise\n",
    "\n",
    "To demonstrate your familiarity with OpenAI API, and also Ollama, build a tool that takes a technical question,  \n",
    "and responds with an explanation. This is a tool that you will be able to use yourself during the course!"
   ]
  },
  {
   "cell_type": "code",
   "execution_count": 2,
   "id": "c1070317-3ed9-4659-abe3-828943230e03",
   "metadata": {},
   "outputs": [],
   "source": [
    "# imports\n",
    "from openai import OpenAI\n",
    "from dotenv import load_dotenv\n",
    "import os"
   ]
  },
  {
   "cell_type": "code",
   "execution_count": 3,
   "id": "4a456906-915a-4bfd-bb9d-57e505c5093f",
   "metadata": {},
   "outputs": [],
   "source": [
    "# constants\n",
    "\n",
    "MODEL_GPT = 'gpt-4o-mini'\n",
    "MODEL_LLAMA = 'llama3.2'"
   ]
  },
  {
   "cell_type": "code",
   "execution_count": 60,
   "id": "a8d7923c-5f28-4c30-8556-342d7c8497c1",
   "metadata": {},
   "outputs": [],
   "source": [
    "# set up environment\n",
    "\n",
    "# load .env\n",
    "load_dotenv()\n",
    "\n",
    "OPENAI_API_KEY = os.getenv('OPENAI_API_KEY')\n",
    "LLAMAM_HOST = 'http://localhost:11434'\n",
    "\n",
    "# initialize OpenAI client\n",
    "gpt = OpenAI()\n",
    "llama = OpenAI(base_url=f'{LLAMAM_HOST}/v1', api_key='ollama')\n",
    "# here is the question; type over this to ask something new"
   ]
  },
  {
   "cell_type": "code",
   "execution_count": 47,
   "id": "3f0d0137-52b0-47a8-81a8-11a90a010798",
   "metadata": {},
   "outputs": [],
   "source": [
    "# here is the question; type over this to ask something new\n",
    "\n",
    "system_prompt = \"\"\"\n",
    "You are a helpful assistant that can explain code.\n",
    "\"\"\"\n",
    "\n",
    "question = \"\"\"\n",
    "Please explain what this code does and why:\n",
    "yield from {book.get(\"author\") for book in books if book.get(\"author\")}\n",
    "\"\"\""
   ]
  },
  {
   "cell_type": "code",
   "execution_count": 48,
   "id": "da0ce828",
   "metadata": {},
   "outputs": [],
   "source": [
    "# function to stream the answer\n",
    "def stream_answer(response):\n",
    "    for chunk in response:\n",
    "        if chunk.choices[0].delta.content is not None:\n",
    "            print(chunk.choices[0].delta.content, end='', flush=True)\n"
   ]
  },
  {
   "cell_type": "code",
   "execution_count": 49,
   "id": "60ce7000-a4a5-4cce-a261-e75ef45063b4",
   "metadata": {},
   "outputs": [],
   "source": [
    "# Get gpt-4o-mini to answer, with streaming\n",
    "def get_gpt_answer(question):\n",
    "    response = gpt.chat.completions.create(\n",
    "        model=MODEL_GPT,\n",
    "        messages=[\n",
    "            {\"role\": \"system\", \"content\": system_prompt},\n",
    "            {\"role\": \"user\", \"content\": question}\n",
    "        ],\n",
    "        stream=True\n",
    "    )\n",
    "    stream_answer(response)"
   ]
  },
  {
   "cell_type": "code",
   "execution_count": 50,
   "id": "8f7c8ea8-4082-4ad0-8751-3301adcf6538",
   "metadata": {},
   "outputs": [
    {
     "name": "stdout",
     "output_type": "stream",
     "text": [
      "\u001b[?25lpulling manifest ⠋ \u001b[?25h\u001b[?25l\u001b[2K\u001b[1Gpulling manifest ⠙ \u001b[?25h\u001b[?25l\u001b[2K\u001b[1Gpulling manifest ⠹ \u001b[?25h\u001b[?25l\u001b[2K\u001b[1Gpulling manifest ⠸ \u001b[?25h\u001b[?25l\u001b[2K\u001b[1Gpulling manifest ⠼ \u001b[?25h\u001b[?25l\u001b[2K\u001b[1Gpulling manifest ⠴ \u001b[?25h\u001b[?25l\u001b[2K\u001b[1Gpulling manifest ⠦ \u001b[?25h\u001b[?25l\u001b[2K\u001b[1Gpulling manifest ⠧ \u001b[?25h\u001b[?25l\u001b[2K\u001b[1Gpulling manifest \n",
      "pulling dde5aa3fc5ff... 100% ▕████████████████▏ 2.0 GB                         \n",
      "pulling 966de95ca8a6... 100% ▕████████████████▏ 1.4 KB                         \n",
      "pulling fcc5a6bec9da... 100% ▕████████████████▏ 7.7 KB                         \n",
      "pulling a70ff7e570d9... 100% ▕████████████████▏ 6.0 KB                         \n",
      "pulling 56bb8bd477a5... 100% ▕████████████████▏   96 B                         \n",
      "pulling 34bb5ab01051... 100% ▕████████████████▏  561 B                         \n",
      "verifying sha256 digest \n",
      "writing manifest \n",
      "success \u001b[?25h\n"
     ]
    }
   ],
   "source": [
    "!ollama pull llama3.2"
   ]
  },
  {
   "cell_type": "code",
   "execution_count": 61,
   "id": "901a969b",
   "metadata": {},
   "outputs": [],
   "source": [
    "def get_llama_answer(question):\n",
    "    response = llama.chat.completions.create(\n",
    "        model=MODEL_LLAMA,\n",
    "        messages=[\n",
    "            {\"role\": \"system\", \"content\": system_prompt},\n",
    "            {\"role\": \"user\", \"content\": question}\n",
    "        ],\n",
    "        stream=True\n",
    "    )\n",
    "    stream_answer(response)"
   ]
  },
  {
   "cell_type": "code",
   "execution_count": 54,
   "id": "34cd863d",
   "metadata": {},
   "outputs": [
    {
     "name": "stdout",
     "output_type": "stream",
     "text": [
      "This line of code utilizes a generator expression alongside a set comprehension to yield authors from a collection of books. Let's break it down step-by-step.\n",
      "\n",
      "1. **Context**: The code snippet is likely part of a generator function since it uses `yield`. A generator function allows you to return values one at a time and pause the function's execution, resuming from the point where it left off when called again.\n",
      "\n",
      "2. **`{book.get(\"author\") for book in books if book.get(\"author\")}`**: \n",
      "   - This part creates a set of authors from a collection of `books`.\n",
      "   - `books` is expected to be an iterable (like a list) where each item (book) is a dictionary.\n",
      "   - `book.get(\"author\")`: This method retrieves the value associated with the key `\"author\"` from the dictionary `book`. If the key does not exist, it returns `None`.\n",
      "   - The loop `for book in books` iterates through each book in the `books` iterable.\n",
      "   - The condition `if book.get(\"author\")` ensures that only books which have an author (i.e., `book.get(\"author\")` does not return `None` or is not an empty string) are included. This helps to filter out books that do not have an author.\n",
      "\n",
      "3. **`yield from`**: \n",
      "   - This is a way to yield all values from an iterable (in this case, the set of authors) to the generator's caller. Essentially, `yield from` simplifies the process of yielding multiple values.\n",
      "\n",
      "4. **Output**: The result of executing this line of code is that it will yield each unique author's name (since a set does not allow duplicate entries) from the books provided in the `books` iterable, one at a time.\n",
      "\n",
      "### Example Usage\n",
      "Suppose you have the following list of books:\n",
      "\n",
      "```python\n",
      "books = [\n",
      "    {\"title\": \"Book A\", \"author\": \"Author 1\"},\n",
      "    {\"title\": \"Book B\", \"author\": \"Author 2\"},\n",
      "    {\"title\": \"Book C\", \"author\": None},\n",
      "    {\"title\": \"Book D\", \"author\": \"Author 1\"}\n",
      "]\n",
      "```\n",
      "\n",
      "If you have a generator function like this:\n",
      "\n",
      "```python\n",
      "def get_authors(books):\n",
      "    yield from {book.get(\"author\") for book in books if book.get(\"author\")}\n",
      "```\n",
      "\n",
      "Calling `list(get_authors(books))` would produce:\n",
      "\n",
      "```python\n",
      "['Author 1', 'Author 2']\n",
      "```\n",
      "\n",
      "### Summary\n",
      "In summary, this line of code effectively provides a way to extract and iterate over unique author names from a list of book dictionaries that must have an author specified. The use of `yield from` allows the function to yield results in a generator context seamlessly."
     ]
    }
   ],
   "source": [
    "get_gpt_answer(question)"
   ]
  },
  {
   "cell_type": "code",
   "execution_count": 62,
   "id": "3c553064",
   "metadata": {},
   "outputs": [
    {
     "name": "stdout",
     "output_type": "stream",
     "text": [
      "**Code Explanation**\n",
      "\n",
      "This line of code uses a feature called \"yield from\" in Python, which is part of the Generator Protocol.\n",
      "\n",
      "Here's a breakdown:\n",
      "\n",
      "- `yield from`: This keyword instructs Python to use the iterator provided as an argument and generate its contents.\n",
      "- `{ }`: This is a dictionary comprehension, but not exactly. It's more like an expression that computes a sequence (an iterable) using a specific syntax.\n",
      "- `book.get(\"author\") for book in books`: This part generates an iterator over a list-like object called `books`. The `for` loop iterates over each item in this list/iterator, assigns it to the variable `book`, and applies two operations:\n",
      "  - Calls `get()` on the current book item (dictionary) with the key `\"author\"`.\n",
      "  - Yields each resulting value.\n",
      "\n",
      "**Why**\n",
      "\n",
      "So, what does it all do?\n",
      "\n",
      "- It filters a list of books (`books`) based on whether they have an `\"author\"` key in their dictionary representation.\n",
      "- For those books that **do** have an `\"author\"`, it generates the author's name (or `None` if there is no `\"author\"` key).\n",
      "- It yields these authors as a sequence.\n",
      "\n",
      "In essence, this line produces a generator of author names from a list of book dictionaries. This can be useful in various scenarios, such as:\n",
      "\n",
      "* Filtering data\n",
      "* Extracting subsets based on conditions\n",
      "* Even creating iterators for later use (in the broader context of the code).\n",
      "\n",
      "Here's an example to illustrate how it might be used:\n",
      "\n",
      "```python\n",
      "books = [\n",
      "    {\"title\": \"Book 1\", \"author\": \"Author A\"},\n",
      "    {\"title\": \"Book 2\", \"author\": None},\n",
      "    {\"title\": \"Book 3\", \"author\": \"Author C\"}\n",
      "]\n",
      "\n",
      "for author in yield from (book.get(\"author\") for book in books if book.get(\"author\")):\n",
      "    print(author)  # Outputs: Author A, Author C\n",
      "```\n",
      "\n",
      "Note how it filters and yields the authors of interest in a sequence manner. The `yield from` construct handles generating an iterable on-the-fly without having to create an explicit list or iterator beforehand, making efficient use of memory for large datasets."
     ]
    }
   ],
   "source": [
    "get_llama_answer(question)"
   ]
  },
  {
   "cell_type": "code",
   "execution_count": null,
   "id": "ce37138b",
   "metadata": {},
   "outputs": [],
   "source": []
  }
 ],
 "metadata": {
  "kernelspec": {
   "display_name": "Python 3",
   "language": "python",
   "name": "python3"
  },
  "language_info": {
   "codemirror_mode": {
    "name": "ipython",
    "version": 3
   },
   "file_extension": ".py",
   "mimetype": "text/x-python",
   "name": "python",
   "nbconvert_exporter": "python",
   "pygments_lexer": "ipython3",
   "version": "3.12.9"
  }
 },
 "nbformat": 4,
 "nbformat_minor": 5
}
